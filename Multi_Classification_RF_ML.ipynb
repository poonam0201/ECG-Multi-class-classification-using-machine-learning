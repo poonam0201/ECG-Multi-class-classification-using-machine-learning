{
 "cells": [
  {
   "cell_type": "code",
   "execution_count": 1,
   "metadata": {},
   "outputs": [
    {
     "name": "stderr",
     "output_type": "stream",
     "text": [
      "Using TensorFlow backend.\n"
     ]
    }
   ],
   "source": [
    "\n",
    "# https://www.kaggle.com/shayanfazeli/heartbeat   # data set \n",
    "\n",
    "# Importing libraries\n",
    "import pandas as pd \n",
    "import numpy as np\n",
    "import matplotlib.pyplot as plt # plotting\n",
    "import os\n",
    "import sklearn\n",
    "from keras.models import Sequential\n",
    "from keras.layers import Flatten, Dense, Dropout, BatchNormalization, AveragePooling2D\n",
    "from sklearn.model_selection import train_test_split\n",
    "from sklearn import svm\n",
    "from sklearn.metrics import classification_report, confusion_matrix\n",
    "from sklearn.metrics import accuracy_score, f1_score, precision_score, recall_score\n",
    "from sklearn.linear_model import LogisticRegression\n",
    "from sklearn.naive_bayes import GaussianNB\n",
    "from sklearn.linear_model import SGDClassifier\n",
    "from sklearn.neighbors import KNeighborsClassifier\n",
    "from sklearn.tree import DecisionTreeClassifier\n",
    "from sklearn.ensemble import RandomForestClassifier\n",
    "\n"
   ]
  },
  {
   "cell_type": "code",
   "execution_count": 2,
   "metadata": {},
   "outputs": [],
   "source": [
    "# reading csv file  \n",
    "\n",
    "test=pd.read_csv(\"mitbih_test.csv\",header=None) \n",
    "train=pd.read_csv(\"mitbih_train.csv\",header=None) \n",
    "#Classes: ['N': 0, 'S': 1, 'V': 2, 'F': 3, 'Q': 4]\n",
    "# N- normal, S-supraventricular, V-ventricular, F-fusion, Q- unknown"
   ]
  },
  {
   "cell_type": "code",
   "execution_count": 3,
   "metadata": {},
   "outputs": [
    {
     "name": "stdout",
     "output_type": "stream",
     "text": [
      "Type\tCount\n",
      "0.0    72471\n",
      "4.0     6431\n",
      "2.0     5788\n",
      "1.0     2223\n",
      "3.0      641\n",
      "Name: 187, dtype: int64\n",
      "train shape :  (87554, 188)\n",
      "test shape :  (21892, 188)\n"
     ]
    }
   ],
   "source": [
    "print(\"Type\\tCount\")\n",
    "print((train[187]).value_counts())\n",
    "\n",
    "print(\"train shape : \",train.shape)\n",
    "print(\"test shape : \",test.shape)\n"
   ]
  },
  {
   "cell_type": "code",
   "execution_count": 4,
   "metadata": {},
   "outputs": [
    {
     "name": "stdout",
     "output_type": "stream",
     "text": [
      "Count of all classes in training dataset\n",
      "Type\tCount\n",
      "0.0    72471\n",
      "4.0     6431\n",
      "2.0     5788\n",
      "1.0     2223\n",
      "3.0      641\n",
      "Name: 187, dtype: int64\n",
      "*************************************\n",
      "Count of all classes in test dataset\n",
      "Type\tCount\n",
      "0.0    18118\n",
      "4.0     1608\n",
      "2.0     1448\n",
      "1.0      556\n",
      "3.0      162\n",
      "Name: 187, dtype: int64\n"
     ]
    }
   ],
   "source": [
    "print('Count of all classes in training dataset')\n",
    "print(\"Type\\tCount\")\n",
    "print((train[187]).value_counts())\n",
    "\n",
    "print('*************************************')\n",
    "\n",
    "print('Count of all classes in test dataset')\n",
    "print(\"Type\\tCount\")\n",
    "print((test[187]).value_counts())"
   ]
  },
  {
   "cell_type": "code",
   "execution_count": 5,
   "metadata": {},
   "outputs": [
    {
     "name": "stdout",
     "output_type": "stream",
     "text": [
      "train shape :  (87554, 188)\n",
      "test shape :  (21892, 188)\n",
      "feature_train shape :  (87554, 187)\n",
      "labels_train shape :  (87554,)\n",
      "feature_test shape :  (21892, 187)\n",
      "labels_test shape :  (21892,)\n"
     ]
    }
   ],
   "source": [
    "print(\"train shape : \",train.shape)\n",
    "print(\"test shape : \",test.shape)\n",
    "\n",
    "feature_train=train.iloc[:,0:187] \n",
    "print(\"feature_train shape : \",feature_train.shape)\n",
    "\n",
    "labels_train=train.iloc[:,187] \n",
    "print(\"labels_train shape : \",labels_train.shape)\n",
    "\n",
    "feature_test=test.iloc[:,0:187] \n",
    "print(\"feature_test shape : \",feature_test.shape)\n",
    "\n",
    "labels_test=test.iloc[:,187] \n",
    "print(\"labels_test shape : \",labels_test.shape)\n",
    "      \n"
   ]
  },
  {
   "cell_type": "code",
   "execution_count": 6,
   "metadata": {},
   "outputs": [],
   "source": [
    "from sklearn.preprocessing import StandardScaler\n",
    "standardized_training_data=StandardScaler().fit_transform(feature_train)\n",
    "feature_train=standardized_training_data\n",
    "\n",
    "standardized_test_data=StandardScaler().fit_transform(feature_test)\n",
    "feature_test=standardized_test_data"
   ]
  },
  {
   "cell_type": "code",
   "execution_count": 7,
   "metadata": {},
   "outputs": [],
   "source": [
    "x_train1=feature_train\n",
    "x_test1=feature_test\n",
    "y_train1=labels_train\n",
    "y_test1=labels_test"
   ]
  },
  {
   "cell_type": "code",
   "execution_count": 11,
   "metadata": {},
   "outputs": [
    {
     "name": "stdout",
     "output_type": "stream",
     "text": [
      "[[18031    17    41     2    27]\n",
      " [  259   288     7     0     2]\n",
      " [  244     2  1178     8    16]\n",
      " [  109     0    22    31     0]\n",
      " [  129     0     9     0  1470]]\n",
      "********************************\n",
      "              precision    recall  f1-score   support\n",
      "\n",
      "         0.0       0.96      1.00      0.98     18118\n",
      "         1.0       0.94      0.52      0.67       556\n",
      "         2.0       0.94      0.81      0.87      1448\n",
      "         3.0       0.76      0.19      0.31       162\n",
      "         4.0       0.97      0.91      0.94      1608\n",
      "\n",
      "    accuracy                           0.96     21892\n",
      "   macro avg       0.91      0.69      0.75     21892\n",
      "weighted avg       0.96      0.96      0.96     21892\n",
      "\n",
      "********************************\n",
      "Precision of rf model is : 0.9576158787199249\n",
      "Recall of rf model is : 0.9591631646263475\n",
      "F1_score of rf model is : 0.9550003349634335\n",
      "Accuracy of rf model is : 0.9591631646263475\n"
     ]
    }
   ],
   "source": [
    "# Random Forest Classifier\n",
    "a_rf=RandomForestClassifier(n_estimators=70,oob_score=True,n_jobs=-1,random_state=101,max_features=None,min_samples_leaf=30)\n",
    "a_rf.fit(x_train1,y_train1)\n",
    "y_pred_rf=a_rf.predict(x_test1)\n",
    "\n",
    "\n",
    "cm_rf=confusion_matrix(y_test1,y_pred_rf)\n",
    "print(cm_rf)\n",
    "print(\"********************************\")\n",
    "\n",
    "report_rf=classification_report(y_test1,y_pred_rf)\n",
    "print(report_rf)\n",
    "\n",
    "print(\"********************************\")\n",
    "\n",
    "Precision_rf= precision_score(y_test1, y_pred_rf,average='weighted')      \n",
    "print('Precision of rf model is : {0}'.format(Precision_rf))\n",
    "\n",
    "Recall_rf= recall_score(y_test1, y_pred_rf,average='weighted')\n",
    "print('Recall of rf model is : {0}'.format(Recall_rf))\n",
    "\n",
    "F1_score_rf= f1_score(y_test1, y_pred_rf,average='weighted')\n",
    "print('F1_score of rf model is : {0}'.format(F1_score_rf))\n",
    "\n",
    "Accuracy_rf=accuracy_score(y_test1, y_pred_rf)\n",
    "print(\"Accuracy of rf model is : {0}\".format(Accuracy_rf))\n"
   ]
  },
  {
   "cell_type": "code",
   "execution_count": 14,
   "metadata": {},
   "outputs": [],
   "source": [
    "# [[18031    17    41     2    27]\n",
    "#  [  259   288     7     0     2]\n",
    "#  [  244     2  1178     8    16]\n",
    "#  [  109     0    22    31     0]\n",
    "#  [  129     0     9     0  1470]]\n",
    "#********************************\n",
    "#              precision    recall  f1-score   support\n",
    "#\n",
    "#         0.0       0.96      1.00      0.98     18118\n",
    "#         1.0       0.94      0.52      0.67       556\n",
    "#         2.0       0.94      0.81      0.87      1448\n",
    "#         3.0       0.76      0.19      0.31       162\n",
    "#         4.0       0.97      0.91      0.94      1608\n",
    "\n",
    "#    accuracy                           0.96     21892\n",
    "#   macro avg       0.91      0.69      0.75     21892\n",
    "# weighted avg       0.96      0.96      0.96     21892\n",
    "\n",
    "#********************************\n",
    "# Precision of rf model is : 0.9576158787199249\n",
    "# Recall of rf model is : 0.9591631646263475\n",
    "# F1_score of rf model is : 0.9550003349634335\n",
    "#Accuracy of rf model is : 0.9591631646263475"
   ]
  },
  {
   "cell_type": "code",
   "execution_count": null,
   "metadata": {},
   "outputs": [],
   "source": []
  }
 ],
 "metadata": {
  "kernelspec": {
   "display_name": "Python 3",
   "language": "python",
   "name": "python3"
  },
  "language_info": {
   "codemirror_mode": {
    "name": "ipython",
    "version": 3
   },
   "file_extension": ".py",
   "mimetype": "text/x-python",
   "name": "python",
   "nbconvert_exporter": "python",
   "pygments_lexer": "ipython3",
   "version": "3.7.3"
  }
 },
 "nbformat": 4,
 "nbformat_minor": 2
}
