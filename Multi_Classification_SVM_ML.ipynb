{
 "cells": [
  {
   "cell_type": "code",
   "execution_count": 1,
   "metadata": {},
   "outputs": [
    {
     "name": "stderr",
     "output_type": "stream",
     "text": [
      "Using TensorFlow backend.\n"
     ]
    }
   ],
   "source": [
    "\n",
    "# https://www.kaggle.com/shayanfazeli/heartbeat   # data set \n",
    "\n",
    "# Importing libraries\n",
    "import pandas as pd \n",
    "import numpy as np\n",
    "import matplotlib.pyplot as plt # plotting\n",
    "import os\n",
    "import sklearn\n",
    "from keras.models import Sequential\n",
    "from keras.layers import Flatten, Dense, Dropout, BatchNormalization, AveragePooling2D\n",
    "from sklearn.model_selection import train_test_split\n",
    "from sklearn import svm\n",
    "from sklearn.metrics import classification_report, confusion_matrix\n",
    "from sklearn.metrics import accuracy_score, f1_score, precision_score, recall_score\n",
    "from sklearn.linear_model import LogisticRegression\n",
    "from sklearn.naive_bayes import GaussianNB\n",
    "from sklearn.linear_model import SGDClassifier\n",
    "from sklearn.neighbors import KNeighborsClassifier\n",
    "from sklearn.tree import DecisionTreeClassifier\n",
    "from sklearn.ensemble import RandomForestClassifier\n",
    "\n"
   ]
  },
  {
   "cell_type": "code",
   "execution_count": 2,
   "metadata": {},
   "outputs": [],
   "source": [
    "# reading csv file  \n",
    "\n",
    "test=pd.read_csv(\"mitbih_test.csv\",header=None) \n",
    "train=pd.read_csv(\"mitbih_train.csv\",header=None) \n",
    "#Classes: ['N': 0, 'S': 1, 'V': 2, 'F': 3, 'Q': 4]\n",
    "# N- normal, S-supraventricular, V-ventricular, F-fusion, Q- unknown"
   ]
  },
  {
   "cell_type": "code",
   "execution_count": 3,
   "metadata": {},
   "outputs": [
    {
     "name": "stdout",
     "output_type": "stream",
     "text": [
      "Type\tCount\n",
      "0.0    72471\n",
      "4.0     6431\n",
      "2.0     5788\n",
      "1.0     2223\n",
      "3.0      641\n",
      "Name: 187, dtype: int64\n",
      "train shape :  (87554, 188)\n",
      "test shape :  (21892, 188)\n"
     ]
    }
   ],
   "source": [
    "print(\"Type\\tCount\")\n",
    "print((train[187]).value_counts())\n",
    "\n",
    "print(\"train shape : \",train.shape)\n",
    "print(\"test shape : \",test.shape)\n"
   ]
  },
  {
   "cell_type": "code",
   "execution_count": 4,
   "metadata": {},
   "outputs": [
    {
     "name": "stdout",
     "output_type": "stream",
     "text": [
      "Count of all classes in training dataset\n",
      "Type\tCount\n",
      "0.0    72471\n",
      "4.0     6431\n",
      "2.0     5788\n",
      "1.0     2223\n",
      "3.0      641\n",
      "Name: 187, dtype: int64\n",
      "*************************************\n",
      "Count of all classes in test dataset\n",
      "Type\tCount\n",
      "0.0    18118\n",
      "4.0     1608\n",
      "2.0     1448\n",
      "1.0      556\n",
      "3.0      162\n",
      "Name: 187, dtype: int64\n"
     ]
    }
   ],
   "source": [
    "print('Count of all classes in training dataset')\n",
    "print(\"Type\\tCount\")\n",
    "print((train[187]).value_counts())\n",
    "\n",
    "print('*************************************')\n",
    "\n",
    "print('Count of all classes in test dataset')\n",
    "print(\"Type\\tCount\")\n",
    "print((test[187]).value_counts())"
   ]
  },
  {
   "cell_type": "code",
   "execution_count": 5,
   "metadata": {},
   "outputs": [
    {
     "name": "stdout",
     "output_type": "stream",
     "text": [
      "train shape :  (87554, 188)\n",
      "test shape :  (21892, 188)\n",
      "feature_train shape :  (87554, 187)\n",
      "labels_train shape :  (87554,)\n",
      "feature_test shape :  (21892, 187)\n",
      "labels_test shape :  (21892,)\n"
     ]
    }
   ],
   "source": [
    "print(\"train shape : \",train.shape)\n",
    "print(\"test shape : \",test.shape)\n",
    "\n",
    "feature_train=train.iloc[:,0:187] \n",
    "print(\"feature_train shape : \",feature_train.shape)\n",
    "\n",
    "labels_train=train.iloc[:,187] \n",
    "print(\"labels_train shape : \",labels_train.shape)\n",
    "\n",
    "feature_test=test.iloc[:,0:187] \n",
    "print(\"feature_test shape : \",feature_test.shape)\n",
    "\n",
    "labels_test=test.iloc[:,187] \n",
    "print(\"labels_test shape : \",labels_test.shape)\n",
    "      \n"
   ]
  },
  {
   "cell_type": "code",
   "execution_count": 6,
   "metadata": {},
   "outputs": [],
   "source": [
    "from sklearn.preprocessing import StandardScaler\n",
    "standardized_training_data=StandardScaler().fit_transform(feature_train)\n",
    "feature_train=standardized_training_data\n",
    "\n",
    "standardized_test_data=StandardScaler().fit_transform(feature_test)\n",
    "feature_test=standardized_test_data"
   ]
  },
  {
   "cell_type": "code",
   "execution_count": 7,
   "metadata": {},
   "outputs": [],
   "source": [
    "x_train1=feature_train\n",
    "x_test1=feature_test\n",
    "y_train1=labels_train\n",
    "y_test1=labels_test"
   ]
  },
  {
   "cell_type": "code",
   "execution_count": 8,
   "metadata": {},
   "outputs": [
    {
     "name": "stdout",
     "output_type": "stream",
     "text": [
      "[[18085    12    18     1     2]\n",
      " [  234   315     7     0     0]\n",
      " [  161     2  1260    21     4]\n",
      " [   66     0    14    82     0]\n",
      " [  127     0     8     0  1473]]\n",
      "********************************\n",
      "              precision    recall  f1-score   support\n",
      "\n",
      "         0.0       0.97      1.00      0.98     18118\n",
      "         1.0       0.96      0.57      0.71       556\n",
      "         2.0       0.96      0.87      0.91      1448\n",
      "         3.0       0.79      0.51      0.62       162\n",
      "         4.0       1.00      0.92      0.95      1608\n",
      "\n",
      "    accuracy                           0.97     21892\n",
      "   macro avg       0.93      0.77      0.84     21892\n",
      "weighted avg       0.97      0.97      0.97     21892\n",
      "\n",
      "********************************\n",
      "Accuracy of svm is : 0.9690754613557464\n",
      "F1_score of svm is : 0.9668783387399797\n",
      "Recall of svm is : 0.9690754613557464\n",
      "Precision of svm is : 0.96861657447622\n"
     ]
    }
   ],
   "source": [
    "# SVM model\n",
    "a_svm=svm.SVC(gamma='scale')\n",
    "a_svm.fit(x_train1,y_train1)\n",
    "y_pred_svm=a_svm.predict(x_test1)\n",
    "\n",
    "\n",
    "#from sklearn.metrics import classification_report, confusion_matrix\n",
    "cm_svm=confusion_matrix(y_test1,y_pred_svm)\n",
    "print(cm_svm)\n",
    "print(\"********************************\")\n",
    "\n",
    "report_svm=classification_report(y_test1,y_pred_svm)\n",
    "print(report_svm)\n",
    "\n",
    "#Precision=TP/(TP+FP)\n",
    "#Recall=TP/(TP+FN)\n",
    "#F1 Score=(2*Recall*Precision)/(Recall+Precision)\n",
    "#Accuracy=(TP+TN)/(TP+TN+FN+FP)\n",
    "#Accuracy_Score_svm=accuracy_score(y_test,y_pred_svm)\n",
    "#print('Average Accuracy:%0.2f +/- (%0.1f) %%' % (Accuracy_Score_svm.mean()*100, Accuracy_Score_svm.std()*100))\n",
    "\n",
    "\n",
    "print(\"********************************\")\n",
    "\n",
    "\n",
    "Accuracy_svm=accuracy_score(y_test1, y_pred_svm)\n",
    "print(\"Accuracy of svm is : {0}\".format(Accuracy_svm))\n",
    "\n",
    "Precision_svm= precision_score(y_test1, y_pred_svm,average='weighted')      \n",
    "print('Precision of svm is : {0}'.format(Precision_svm))\n",
    "\n",
    "Recall_svm= recall_score(y_test1, y_pred_svm,average='weighted')\n",
    "print('Recall of svm is : {0}'.format(Recall_svm))\n",
    "      \n",
    "F1_score_svm= f1_score(y_test1, y_pred_svm,average='weighted')\n",
    "print('F1_score of svm is : {0}'.format(F1_score_svm))"
   ]
  },
  {
   "cell_type": "code",
   "execution_count": 2,
   "metadata": {},
   "outputs": [],
   "source": [
    "\n",
    "#[[18085    12    18     1     2]\n",
    "# [  234   315     7     0     0]\n",
    "# [  161     2  1260    21     4]\n",
    "# [   66     0    14    82     0]\n",
    "# [  127     0     8     0  1473]]\n",
    "\n",
    "#********************************\n",
    "\n",
    "#              precision    recall  f1-score   \n",
    "#\n",
    "#         0.0       0.97      1.00      0.98     \n",
    "#         1.0       0.96      0.57      0.71       \n",
    "#         2.0       0.96      0.87      0.91      \n",
    "#         3.0       0.79      0.51      0.62       \n",
    "#         4.0       1.00      0.92      0.95 \n",
    "\n",
    "#********************************\n",
    "#Precision of svm is : 0.96861657447622\n",
    "#Recall of svm is : 0.9690754613557464\n",
    "#F1_score of svm is : 0.9668783387399797\n",
    "#Accuracy of svm is : 0.9690754613557464\n",
    "\n",
    "\n",
    "\n",
    "\n"
   ]
  },
  {
   "cell_type": "code",
   "execution_count": null,
   "metadata": {},
   "outputs": [],
   "source": []
  }
 ],
 "metadata": {
  "kernelspec": {
   "display_name": "Python 3",
   "language": "python",
   "name": "python3"
  },
  "language_info": {
   "codemirror_mode": {
    "name": "ipython",
    "version": 3
   },
   "file_extension": ".py",
   "mimetype": "text/x-python",
   "name": "python",
   "nbconvert_exporter": "python",
   "pygments_lexer": "ipython3",
   "version": "3.7.3"
  }
 },
 "nbformat": 4,
 "nbformat_minor": 2
}
