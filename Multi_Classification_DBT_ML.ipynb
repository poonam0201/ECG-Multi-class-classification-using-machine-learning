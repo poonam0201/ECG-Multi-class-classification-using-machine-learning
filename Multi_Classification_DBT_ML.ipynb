{
 "cells": [
  {
   "cell_type": "code",
   "execution_count": 1,
   "metadata": {},
   "outputs": [
    {
     "name": "stderr",
     "output_type": "stream",
     "text": [
      "Using TensorFlow backend.\n"
     ]
    }
   ],
   "source": [
    "\n",
    "# https://www.kaggle.com/shayanfazeli/heartbeat   # data set \n",
    "\n",
    "# Importing libraries\n",
    "import pandas as pd \n",
    "import numpy as np\n",
    "import matplotlib.pyplot as plt # plotting\n",
    "import os\n",
    "import sklearn\n",
    "from keras.models import Sequential\n",
    "from keras.layers import Flatten, Dense, Dropout, BatchNormalization, AveragePooling2D\n",
    "from sklearn.model_selection import train_test_split\n",
    "from sklearn import svm\n",
    "from sklearn.metrics import classification_report, confusion_matrix\n",
    "from sklearn.metrics import accuracy_score, f1_score, precision_score, recall_score\n",
    "from sklearn.linear_model import LogisticRegression\n",
    "from sklearn.naive_bayes import GaussianNB\n",
    "from sklearn.linear_model import SGDClassifier\n",
    "from sklearn.neighbors import KNeighborsClassifier\n",
    "from sklearn.tree import DecisionTreeClassifier\n",
    "from sklearn.ensemble import RandomForestClassifier\n",
    "\n"
   ]
  },
  {
   "cell_type": "code",
   "execution_count": 2,
   "metadata": {},
   "outputs": [],
   "source": [
    "# reading csv file  \n",
    "\n",
    "test=pd.read_csv(\"mitbih_test.csv\",header=None) \n",
    "train=pd.read_csv(\"mitbih_train.csv\",header=None) \n",
    "#Classes: ['N': 0, 'S': 1, 'V': 2, 'F': 3, 'Q': 4]\n",
    "# N- normal, S-supraventricular, V-ventricular, F-fusion, Q- unknown\n"
   ]
  },
  {
   "cell_type": "code",
   "execution_count": 3,
   "metadata": {},
   "outputs": [
    {
     "name": "stdout",
     "output_type": "stream",
     "text": [
      "Type\tCount\n",
      "0.0    72471\n",
      "4.0     6431\n",
      "2.0     5788\n",
      "1.0     2223\n",
      "3.0      641\n",
      "Name: 187, dtype: int64\n",
      "train shape :  (87554, 188)\n",
      "test shape :  (21892, 188)\n"
     ]
    }
   ],
   "source": [
    "print(\"Type\\tCount\")\n",
    "print((train[187]).value_counts())\n",
    "\n",
    "print(\"train shape : \",train.shape)\n",
    "print(\"test shape : \",test.shape)\n"
   ]
  },
  {
   "cell_type": "code",
   "execution_count": 4,
   "metadata": {},
   "outputs": [
    {
     "name": "stdout",
     "output_type": "stream",
     "text": [
      "Count of all classes in training dataset\n",
      "Type\tCount\n",
      "0.0    72471\n",
      "4.0     6431\n",
      "2.0     5788\n",
      "1.0     2223\n",
      "3.0      641\n",
      "Name: 187, dtype: int64\n",
      "*************************************\n",
      "Count of all classes in test dataset\n",
      "Type\tCount\n",
      "0.0    18118\n",
      "4.0     1608\n",
      "2.0     1448\n",
      "1.0      556\n",
      "3.0      162\n",
      "Name: 187, dtype: int64\n"
     ]
    }
   ],
   "source": [
    "print('Count of all classes in training dataset')\n",
    "print(\"Type\\tCount\")\n",
    "print((train[187]).value_counts())\n",
    "\n",
    "print('*************************************')\n",
    "\n",
    "print('Count of all classes in test dataset')\n",
    "print(\"Type\\tCount\")\n",
    "print((test[187]).value_counts())\n"
   ]
  },
  {
   "cell_type": "code",
   "execution_count": 5,
   "metadata": {},
   "outputs": [
    {
     "name": "stdout",
     "output_type": "stream",
     "text": [
      "train shape :  (87554, 188)\n",
      "test shape :  (21892, 188)\n",
      "feature_train shape :  (87554, 187)\n",
      "labels_train shape :  (87554,)\n",
      "feature_test shape :  (21892, 187)\n",
      "labels_test shape :  (21892,)\n"
     ]
    }
   ],
   "source": [
    "print(\"train shape : \",train.shape)\n",
    "print(\"test shape : \",test.shape)\n",
    "\n",
    "feature_train=train.iloc[:,0:187] \n",
    "print(\"feature_train shape : \",feature_train.shape)\n",
    "\n",
    "labels_train=train.iloc[:,187] \n",
    "print(\"labels_train shape : \",labels_train.shape)\n",
    "\n",
    "feature_test=test.iloc[:,0:187] \n",
    "print(\"feature_test shape : \",feature_test.shape)\n",
    "\n",
    "labels_test=test.iloc[:,187] \n",
    "print(\"labels_test shape : \",labels_test.shape)\n",
    "      \n"
   ]
  },
  {
   "cell_type": "code",
   "execution_count": 6,
   "metadata": {},
   "outputs": [],
   "source": [
    "from sklearn.preprocessing import StandardScaler\n",
    "standardized_training_data=StandardScaler().fit_transform(feature_train)\n",
    "feature_train=standardized_training_data\n",
    "\n",
    "standardized_test_data=StandardScaler().fit_transform(feature_test)\n",
    "feature_test=standardized_test_data"
   ]
  },
  {
   "cell_type": "code",
   "execution_count": 7,
   "metadata": {},
   "outputs": [],
   "source": [
    "x_train1=feature_train\n",
    "x_test1=feature_test\n",
    "y_train1=labels_train\n",
    "y_test1=labels_test"
   ]
  },
  {
   "cell_type": "code",
   "execution_count": 10,
   "metadata": {},
   "outputs": [
    {
     "name": "stdout",
     "output_type": "stream",
     "text": [
      "[[17959    47    70     7    35]\n",
      " [  246   294    11     1     4]\n",
      " [  291     4  1129     9    15]\n",
      " [  111     0     7    42     2]\n",
      " [  142     2    16     0  1448]]\n",
      "********************************\n",
      "              precision    recall  f1-score   support\n",
      "\n",
      "         0.0       0.96      0.99      0.97     18118\n",
      "         1.0       0.85      0.53      0.65       556\n",
      "         2.0       0.92      0.78      0.84      1448\n",
      "         3.0       0.71      0.26      0.38       162\n",
      "         4.0       0.96      0.90      0.93      1608\n",
      "\n",
      "    accuracy                           0.95     21892\n",
      "   macro avg       0.88      0.69      0.76     21892\n",
      "weighted avg       0.95      0.95      0.95     21892\n",
      "\n",
      "********************************\n",
      "Precision of dt is : 0.9508030524221527\n",
      "Recall of dt is : 0.9534076374931482\n",
      "F1_score of dt is : 0.9497155233571694\n",
      "Accuracy of dt is : 0.9534076374931482\n"
     ]
    }
   ],
   "source": [
    "# Decision Binary Tree\n",
    "a_dt=DecisionTreeClassifier(max_depth=10,random_state=101,max_features= None, min_samples_leaf=15)\n",
    "a_dt.fit(x_train1,y_train1)\n",
    "y_pred_dt=a_dt.predict(x_test1)\n",
    "\n",
    "cm_dt=confusion_matrix(y_test1,y_pred_dt)\n",
    "print(cm_dt)\n",
    "print(\"********************************\")\n",
    "\n",
    "report_dt=classification_report(y_test1,y_pred_dt)\n",
    "print(report_dt)\n",
    "\n",
    "print(\"********************************\")\n",
    "\n",
    "Precision_dt= precision_score(y_test1, y_pred_dt,average='weighted')      \n",
    "print('Precision of dt is : {0}'.format(Precision_dt))\n",
    "\n",
    "Recall_dt= recall_score(y_test1, y_pred_dt,average='weighted')\n",
    "print('Recall of dt is : {0}'.format(Recall_dt))\n",
    "\n",
    "F1_score_dt= f1_score(y_test1, y_pred_dt,average='weighted')\n",
    "print('F1_score of dt is : {0}'.format(F1_score_dt))\n",
    "\n",
    "Accuracy_dt=accuracy_score(y_test1, y_pred_dt)\n",
    "print(\"Accuracy of dt is : {0}\".format(Accuracy_dt))\n",
    "\n",
    "      \n"
   ]
  },
  {
   "cell_type": "code",
   "execution_count": 11,
   "metadata": {},
   "outputs": [],
   "source": [
    "#  [[17959    47    70     7    35]\n",
    "#  [  246   294    11     1     4]\n",
    "#  [  291     4  1129     9    15]\n",
    "#  [  111     0     7    42     2]\n",
    "#  [  142     2    16     0  1448]]\n",
    "#********************************\n",
    "#              precision    recall  f1-score   support\n",
    "#\n",
    "#         0.0       0.96      0.99      0.97     18118\n",
    "#         1.0       0.85      0.53      0.65       556\n",
    "#         2.0       0.92      0.78      0.84      1448\n",
    "#         3.0       0.71      0.26      0.38       162\n",
    "#         4.0       0.96      0.90      0.93      1608\n",
    "\n",
    "#    accuracy                           0.95     21892\n",
    "#   macro avg       0.88      0.69      0.76     21892\n",
    "#weighted avg       0.95      0.95      0.95     21892\n",
    "\n",
    "#********************************\n",
    "#Precision of dt is : 0.9508030524221527\n",
    "#Recall of dt is : 0.9534076374931482\n",
    "#F1_score of dt is : 0.9497155233571694\n",
    "#Accuracy of dt is : 0.9534076374931482"
   ]
  },
  {
   "cell_type": "code",
   "execution_count": null,
   "metadata": {},
   "outputs": [],
   "source": []
  }
 ],
 "metadata": {
  "kernelspec": {
   "display_name": "Python 3",
   "language": "python",
   "name": "python3"
  },
  "language_info": {
   "codemirror_mode": {
    "name": "ipython",
    "version": 3
   },
   "file_extension": ".py",
   "mimetype": "text/x-python",
   "name": "python",
   "nbconvert_exporter": "python",
   "pygments_lexer": "ipython3",
   "version": "3.7.3"
  }
 },
 "nbformat": 4,
 "nbformat_minor": 2
}
